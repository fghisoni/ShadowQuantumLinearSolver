{
 "cells": [
  {
   "cell_type": "code",
   "execution_count": 1,
   "metadata": {},
   "outputs": [],
   "source": [
    "import numpy as np\n",
    "import matplotlib.pyplot as plt "
   ]
  },
  {
   "cell_type": "markdown",
   "metadata": {},
   "source": [
    "# Ising"
   ]
  },
  {
   "cell_type": "code",
   "execution_count": 2,
   "metadata": {},
   "outputs": [
    {
     "data": {
      "text/plain": [
       "(np.float64(33.3), np.float64(1.7916472867168918))"
      ]
     },
     "execution_count": 2,
     "metadata": {},
     "output_type": "execute_result"
    }
   ],
   "source": [
    "Ising_vqls_file = 'Ising/4qubit/'\n",
    "\n",
    "ising_vqls = []\n",
    "for i in range(1,11):\n",
    "    fname = Ising_vqls_file + f'Ising_4qubits_60kappa_10000shots_{i}seed_1_fidelity_Powell.txt'\n",
    "\n",
    "    with open(fname, 'r') as f:\n",
    "        count = 0\n",
    "        for val in f.readlines():\n",
    "            if float(val) > 0.99:\n",
    "                break\n",
    "            count += 1\n",
    "        ising_vqls.append(count)\n",
    "\n",
    "ising_vqls_avg = np.mean(ising_vqls)\n",
    "ising_vqls_std = np.std(ising_vqls)\n",
    "\n",
    "ising_vqls_avg, ising_vqls_std"
   ]
  },
  {
   "cell_type": "code",
   "execution_count": 3,
   "metadata": {},
   "outputs": [
    {
     "data": {
      "text/plain": [
       "(np.float64(33.1), np.float64(1.9209372712298545))"
      ]
     },
     "execution_count": 3,
     "metadata": {},
     "output_type": "execute_result"
    }
   ],
   "source": [
    "Ising_sls_file = 'Ising/Results_PI/'\n",
    "ising_sls = []\n",
    "\n",
    "for i in range(1,11):\n",
    "    fname = Ising_sls_file + f'Ising_4qubits_0.01serr_fidelity_{i}seed_Powell.npy'\n",
    "    int_file = np.load(fname)\n",
    "    count = 0\n",
    "    for val in int_file:\n",
    "        if val > 0.99:\n",
    "            break\n",
    "        count += 1\n",
    "\n",
    "    ising_sls.append(count)    \n",
    "    \n",
    "ising_sls_avg = np.mean(ising_sls)\n",
    "ising_sls_std = np.std(ising_sls)\n",
    "ising_sls_avg, ising_sls_std"
   ]
  },
  {
   "cell_type": "markdown",
   "metadata": {},
   "source": [
    "# Potential"
   ]
  },
  {
   "cell_type": "code",
   "execution_count": 4,
   "metadata": {},
   "outputs": [
    {
     "data": {
      "text/plain": [
       "(np.float64(1237.6000000000001), np.float64(172.9665863685816))"
      ]
     },
     "execution_count": 4,
     "metadata": {},
     "output_type": "execute_result"
    }
   ],
   "source": [
    "Potential_vqls_file = 'Potentials/Htest_res/'\n",
    "\n",
    "potential_vqls = []\n",
    "for i in range(1,11):\n",
    "    fname = Potential_vqls_file + f'Potential_4qubits_10000shots_fidelity_{i}seed_Adam.txt.npy'\n",
    "    int_file = np.load(fname)\n",
    "    count = 0\n",
    "    for val in int_file:\n",
    "        if val > 0.99:\n",
    "            break\n",
    "        count += 1\n",
    "\n",
    "    potential_vqls.append(count)      \n",
    "\n",
    "potential_vqls_avg = 28*np.mean(potential_vqls)\n",
    "potential_vqls_std = 28*np.std(potential_vqls)\n",
    "\n",
    "potential_vqls_avg, potential_vqls_std"
   ]
  },
  {
   "cell_type": "code",
   "execution_count": 5,
   "metadata": {},
   "outputs": [
    {
     "data": {
      "text/plain": [
       "(np.float64(1025.5), np.float64(338.886042793149))"
      ]
     },
     "execution_count": 5,
     "metadata": {},
     "output_type": "execute_result"
    }
   ],
   "source": [
    "Potential_sls_file = 'Potentials/SLS_res/'\n",
    "\n",
    "potential_sls = []\n",
    "for i in [2,3,4,6,7,8,9,10]: #range(1,11)\n",
    "    fname = Potential_sls_file + f'Potential_4qubits_0.01serr_costs_{i}seed_Adam.npy'\n",
    "    int_file = np.load(fname)\n",
    "    count = 0\n",
    "    for val in int_file:\n",
    "        if val > 0.99:\n",
    "            break\n",
    "        count += 1\n",
    "\n",
    "    potential_sls.append(count)    \n",
    "  \n",
    "potential_sls_avg = 28*np.mean(potential_sls)\n",
    "potential_sls_std = 28*np.std(potential_sls)\n",
    "\n",
    "potential_sls_avg, potential_sls_std"
   ]
  },
  {
   "cell_type": "markdown",
   "metadata": {},
   "source": [
    "# Random 1"
   ]
  },
  {
   "cell_type": "code",
   "execution_count": 6,
   "metadata": {},
   "outputs": [
    {
     "name": "stdout",
     "output_type": "stream",
     "text": [
      "[2544 4272 5520 7872 9504]\n"
     ]
    },
    {
     "data": {
      "text/plain": [
       "(np.float64(5942.4), np.float64(2487.0115078141475))"
      ]
     },
     "execution_count": 6,
     "metadata": {},
     "output_type": "execute_result"
    }
   ],
   "source": [
    "Random1_vqls_file = 'Random/Htest/'\n",
    "\n",
    "random_vqls = []\n",
    "counts = []\n",
    "for i in range(1,11): \n",
    "    fname = Random1_vqls_file + f'Random_4qubits_10000shots_fidelity_{i}seed_Adam.txt.npy'\n",
    "\n",
    "    int =  np.load(fname)\n",
    "    count = 0\n",
    "    for i in int:\n",
    "       if i > 0.9:\n",
    "           break\n",
    "       count += 1\n",
    "    counts.append(count)\n",
    "\n",
    "random_vqls = 48*np.partition(counts, 5)[:5]   \n",
    "# random_vqls = 48*np.array(counts)\n",
    "print(random_vqls)\n",
    "\n",
    "random_vqls_avg = np.mean(random_vqls)\n",
    "random_vqls_std = np.std(random_vqls)\n",
    "\n",
    "random_vqls_avg, random_vqls_std"
   ]
  },
  {
   "cell_type": "code",
   "execution_count": 7,
   "metadata": {},
   "outputs": [
    {
     "name": "stdout",
     "output_type": "stream",
     "text": [
      "2 0.905012238427238 36\n",
      "4 0.9002126634109741 55\n",
      "5 0.9077691391261522 32\n",
      "7 0.9035118261772245 44\n",
      "8 0.9325338823935865 70\n",
      "9 0.9148002297033504 70\n",
      "10 0.9110824413043332 29\n",
      "[1392 1536 1728 2112 2640]\n"
     ]
    },
    {
     "data": {
      "text/plain": [
       "(np.float64(1881.6), np.float64(449.6654756594061))"
      ]
     },
     "execution_count": 7,
     "metadata": {},
     "output_type": "execute_result"
    }
   ],
   "source": [
    "# SQLS\n",
    "Random_sls_file = 'Random/SQLS/'\n",
    "\n",
    "random_sls = []\n",
    "counts = []\n",
    "for idx in range(1,11):\n",
    "    fname = Random_sls_file + f'Random_4qubits_0.01serr_fidelity_{idx}seed_Adam_FINAL.npy'\n",
    "    # fname = Random_sls_file + f'Random_4qubits_0.01serr_fidelity_{idx}seed_Adam.npy'\n",
    "\n",
    "    int =  np.load(fname)\n",
    "    count = 0\n",
    "    # print(int)\n",
    "    for i in int:\n",
    "       if i > 0.9:\n",
    "           print(idx, i, count)\n",
    "           break\n",
    "       count += 1\n",
    "    counts.append(count)\n",
    "\n",
    "random_sls = 48*np.partition(counts, 5)[:5]\n",
    "# random_sls = 48*np.array(counts)\n",
    "print(random_sls)\n",
    "\n",
    "random_sls_avg = np.mean(random_sls)\n",
    "random_sls_std = np.std(random_sls)\n",
    "\n",
    "random_sls_avg, random_sls_std"
   ]
  },
  {
   "cell_type": "markdown",
   "metadata": {},
   "source": [
    "# Random 2"
   ]
  },
  {
   "cell_type": "code",
   "execution_count": 8,
   "metadata": {},
   "outputs": [
    {
     "name": "stdout",
     "output_type": "stream",
     "text": [
      "[2160 2784 3264 3408 3504]\n"
     ]
    },
    {
     "data": {
      "text/plain": [
       "(np.float64(3024.0), np.float64(497.90601522777365))"
      ]
     },
     "execution_count": 8,
     "metadata": {},
     "output_type": "execute_result"
    }
   ],
   "source": [
    "Random2_vqls_file = 'Random/Htest/'\n",
    "\n",
    "random2_vqls = []\n",
    "counts = []\n",
    "for i in range(1,11): \n",
    "    fname2 = Random2_vqls_file + f'Random2_4qubits_10000shots_fidelity_{i}seed_Adam.txt.npy'\n",
    "    \n",
    "    int =  np.load(fname2)\n",
    "    count = 0\n",
    "    for i in int:\n",
    "       if i > 0.95:\n",
    "           break\n",
    "       count += 1\n",
    "    counts.append(count)\n",
    "\n",
    "random2_vqls = 48*np.partition(counts, 5)[:5]    \n",
    "print(random2_vqls)\n",
    "\n",
    "random2_vqls_avg = np.mean(random2_vqls)\n",
    "random2_vqls_std = np.std(random2_vqls)\n",
    "\n",
    "random2_vqls_avg, random2_vqls_std"
   ]
  },
  {
   "cell_type": "code",
   "execution_count": 9,
   "metadata": {},
   "outputs": [
    {
     "name": "stdout",
     "output_type": "stream",
     "text": [
      "[2496 2496 3120 3504 3696]\n"
     ]
    },
    {
     "data": {
      "text/plain": [
       "(np.float64(3062.4), np.float64(498.2760680586616))"
      ]
     },
     "execution_count": 9,
     "metadata": {},
     "output_type": "execute_result"
    }
   ],
   "source": [
    "# SQLS\n",
    "Random2_sls_file = 'Random/SQLS/'\n",
    "\n",
    "random2_sls = []\n",
    "counts = []\n",
    "for i in range(2,11):\n",
    "    fname2s = Random2_sls_file + f'Random2_4qubits_0.01serr_fidelity_{i}seed_Adam.npy'\n",
    "\n",
    "    int =  np.load(fname2s)\n",
    "    count = 0\n",
    "    for i in int:\n",
    "       if i > 0.95:\n",
    "           break\n",
    "       count += 1\n",
    "    counts.append(count)\n",
    "\n",
    "random2_sls = 48*np.partition(counts, 5)[:5]\n",
    "print(random2_sls)\n",
    "random2_sls_avg = np.mean(random2_sls)\n",
    "random2_sls_std = np.std(random2_sls)\n",
    "\n",
    "random2_sls_avg, random2_sls_std"
   ]
  },
  {
   "cell_type": "markdown",
   "metadata": {},
   "source": [
    "# Bar graph"
   ]
  },
  {
   "cell_type": "code",
   "execution_count": 10,
   "metadata": {},
   "outputs": [],
   "source": [
    "color = ['#aadce0',\n",
    " '#ef8a47',\n",
    " '#376795',\n",
    " '#f7aa58',\n",
    " '#72bcd5',\n",
    " '#ffe6b7',\n",
    " '#e76254',\n",
    " '#1e466e',\n",
    " '#ffd06f',\n",
    " '#528fad']"
   ]
  },
  {
   "cell_type": "code",
   "execution_count": 12,
   "metadata": {},
   "outputs": [
    {
     "data": {
      "image/png": "[encoded data removed]",
      "text/plain": [
       "<Figure size 350x275 with 1 Axes>"
      ]
     },
     "metadata": {},
     "output_type": "display_data"
    }
   ],
   "source": [
    "plt.rcParams.update({\n",
    "    \"text.usetex\": False,\n",
    "    \"font.family\": \"serif\",\n",
    "    \"font.sans-serif\": \"Palatino\",})\n",
    "\n",
    "plt.figure(figsize=(3.5,2.75))\n",
    "\n",
    "barWidth = 0.25\n",
    "\n",
    "# sls = [ising_sls_avg, potential_sls_avg, random_sls_avg, random2_sls_avg]\n",
    "# sls_std = [ising_sls_std, potential_sls_std, random_sls_std, random2_sls_std] \n",
    "\n",
    "sls = [ising_sls_avg, random_sls_avg, random2_sls_avg]\n",
    "sls_std = [ising_sls_std, random_sls_std, random2_sls_std] \n",
    "\n",
    "# vqls = [ising_vqls_avg, potential_vqls_avg, random_vqls_avg, random2_vqls_avg]\n",
    "# vqls_std = [ising_vqls_std, potential_vqls_std, random_vqls_std, random2_vqls_std]\n",
    "\n",
    "vqls = [ising_vqls_avg, random_vqls_avg, random2_vqls_avg]\n",
    "vqls_std = [ising_vqls_std, random_vqls_std, random2_vqls_std]\n",
    "\n",
    "br1 = np.arange(len(sls)) \n",
    "br2 = [x + barWidth for x in br1] \n",
    "\n",
    "plt.bar(br1, sls, color ='#1081C1', width = barWidth, \n",
    "        edgecolor ='grey', label ='SQLS', yerr = sls_std)\n",
    "plt.bar(br2, vqls, color ='#e76254', width = barWidth, \n",
    "        edgecolor ='grey', label ='VQLS', yerr = vqls_std)\n",
    "\n",
    "# plt.xticks([r + barWidth/2 for r in range(4)], \n",
    "#         ['IQLSP', 'PGLS', 'RQLSP 1', 'RQLSP 2'])\n",
    "\n",
    "plt.xticks([r + barWidth/2 for r in range(3)], \n",
    "        ['IQLSP', 'RQLSP 1', 'RQLSP 2'])\n",
    "\n",
    "plt.xlabel(r' ')\n",
    "plt.ylabel(r'time-to-solution', fontsize = 11, labelpad=12, va = 'center')\n",
    "plt.ticklabel_format(axis='y', style='sci', scilimits=(4,4))\n",
    "plt.yticks(fontsize = 8)\n",
    "plt.xticks(fontsize = 8)\n",
    "plt.yscale(\"log\")\n",
    "\n",
    "plt.legend(loc='upper left', borderaxespad=0, fontsize = 8, labelspacing = 0.35)\n",
    "plt.savefig('tts_problem_v2.pdf', bbox_inches = 'tight')"
   ]
  },
  {
   "cell_type": "code",
   "execution_count": null,
   "metadata": {},
   "outputs": [],
   "source": []
  }
 ],
 "metadata": {
  "kernelspec": {
   "display_name": ".venv",
   "language": "python",
   "name": "python3"
  },
  "language_info": {
   "codemirror_mode": {
    "name": "ipython",
    "version": 3
   },
   "file_extension": ".py",
   "mimetype": "text/x-python",
   "name": "python",
   "nbconvert_exporter": "python",
   "pygments_lexer": "ipython3",
   "version": "3.10.16"
  }
 },
 "nbformat": 4,
 "nbformat_minor": 2
}
