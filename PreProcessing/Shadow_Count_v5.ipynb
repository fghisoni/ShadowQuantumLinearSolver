{
 "cells": [
  {
   "cell_type": "markdown",
   "metadata": {},
   "source": [
    "# NCircuit vs L"
   ]
  },
  {
   "cell_type": "code",
   "execution_count": null,
   "metadata": {},
   "outputs": [],
   "source": [
    "import pennylane as qml\n",
    "from pennylane import numpy as np\n",
    "from Pauli_algebra_v3 import *\n",
    "import matplotlib.pyplot as plt\n",
    "import matplotlib.patches as patches\n",
    "import itertools\n",
    "from Random_QLSP_v7_light import *"
   ]
  },
  {
   "cell_type": "code",
   "execution_count": null,
   "metadata": {},
   "outputs": [],
   "source": [
    "def calc_klocality(pstr):\n",
    "    return pstr.count('X') + pstr.count('Y') + pstr.count('Z')"
   ]
  },
  {
   "cell_type": "code",
   "execution_count": null,
   "metadata": {},
   "outputs": [],
   "source": [
    "n = 10\n",
    "dim = 2**n\n",
    "\n",
    "error01_pauli = []\n",
    "\n",
    "number_of_unitaries = []\n",
    "number_of_expval = []\n",
    "\n",
    "for p in np.linspace(4,100, 4):\n",
    "    print(p)\n",
    "    int_expval = []\n",
    "    int_error001_pauli = []\n",
    "\n",
    "    for _ in range(1):\n",
    "        gate_set, coefficient_set, A = Random_QLSP_v7(n, kappa=10, algorithm='shadows', J=int(p), k_loc=2)\n",
    "        print('created problem')\n",
    "        b = [1/np.sqrt(dim) for i in range(dim)]\n",
    "        list_of_string_observables, local_calc, norm_calc = create_operator_list(A_strings=gate_set, A_coeffs=coefficient_set)\n",
    "        print('list done')\n",
    "        for idx, val in enumerate(list_of_string_observables):\n",
    "            if val in list(local_calc.keys()) and val in list(norm_calc.keys()):\n",
    "                if abs(local_calc[val]) < 1e-15 and abs(norm_calc[val]) < 1e-15:\n",
    "                    list_of_string_observables.remove(val)\n",
    "            elif val in list(local_calc.keys()):\n",
    "                if abs(local_calc[val]) < 1e-15:\n",
    "                    list_of_string_observables.remove(val)\n",
    "            elif val in list(norm_calc.keys()):\n",
    "                if abs(norm_calc[val]) < 1e-15:\n",
    "                    list_of_string_observables.remove(val)\n",
    "        print('pruned')\n",
    "        int_expval.append(len(list_of_string_observables))\n",
    "        \n",
    "        n_terms = len(gate_set)\n",
    "        n_op = len(list_of_string_observables)\n",
    "\n",
    "        k_loc = 0\n",
    "        for ob in list_of_string_observables:\n",
    "            k_int = calc_klocality(ob)\n",
    "            if k_int > k_loc:\n",
    "                k_loc = k_int\n",
    "\n",
    "        error_grid = [0.01]\n",
    "        for error in error_grid:\n",
    "            shadow_size_bound_pauli = int(np.ceil(np.log(n_op)*(3**k_loc)/error**2))\n",
    "            if np.isclose(error,0.01):\n",
    "                int_error001_pauli.append(shadow_size_bound_pauli)\n",
    "\n",
    "    number_of_expval.append(np.mean(int_expval))\n",
    "    error01_pauli.append(np.mean(int_error001_pauli))\n",
    "\n",
    "# np.save('number_of_expval_1loc',np.array(number_of_expval))\n",
    "# np.save('error01_pauli_1loc',np.array(error01_pauli))"
   ]
  },
  {
   "cell_type": "code",
   "execution_count": null,
   "metadata": {},
   "outputs": [],
   "source": [
    "number_of_unitaries = np.linspace(4,100, 4)\n",
    "\n",
    "error01_pauli_1loc = np.load('number_of_expval_1loc.npy')\n",
    "number_of_expval_1loc = np.load('number_of_expval_1loc.npy')\n",
    "\n",
    "error01_pauli_5loc = np.load('number_of_expval_5loc.npy')\n",
    "number_of_expval_5loc = np.load('number_of_expval_5loc.npy')"
   ]
  },
  {
   "cell_type": "code",
   "execution_count": null,
   "metadata": {},
   "outputs": [],
   "source": [
    "plt.figure(figsize=(3.5,2.75))\n",
    "\n",
    "plt.plot(number_of_unitaries, [0.5*10000*(number_of_unitaries[i[0]]*(number_of_unitaries[i[0]] - 1) + 10*(number_of_unitaries[i[0]])**2) for i in enumerate(number_of_unitaries)],label=r'$n_{shots}=10000$', color= '#e76254')\n",
    "plt.plot(number_of_unitaries, 10000*np.array(number_of_expval_5loc), label = r'$n_{shots}^{*}=10000$', color = '#ef8a47')   \n",
    "plt.plot(number_of_unitaries, error01_pauli_5loc, label = r'$\\epsilon_{shadow}=0.01$', color = '#1081C1')   \n",
    "\n",
    "plt.plot(number_of_unitaries, 1000*np.array(number_of_expval_1loc), label = r' ', color = '#ef8a47', linestyle = 'dashed')   \n",
    "plt.plot(number_of_unitaries, error01_pauli_1loc, label = r' ', color = '#1081C1', linestyle = 'dashed')   \n",
    "\n",
    "plt.xlabel(r'$L$')\n",
    "plt.ylabel(r'$N_{circuits}$/step', fontsize = 11, labelpad=12, va = 'center')\n",
    "plt.yticks(fontsize = 8)\n",
    "plt.xticks(fontsize = 8)\n",
    "plt.yscale(\"log\")\n",
    "plt.grid()\n",
    "\n",
    "plt.legend(loc='lower right', borderaxespad=0, fontsize = 8, labelspacing = 0.5, ncol = 2)\n",
    "# plt.savefig('Operatorscaling_v2.pdf', bbox_inches = 'tight')"
   ]
  },
  {
   "cell_type": "markdown",
   "metadata": {},
   "source": [
    "# Ncircuits vs qubits"
   ]
  },
  {
   "cell_type": "code",
   "execution_count": 1,
   "metadata": {},
   "outputs": [],
   "source": [
    "import pennylane as qml\n",
    "from pennylane import numpy as np\n",
    "from Pauli_algebra_v3 import *\n",
    "import matplotlib.pyplot as plt\n",
    "import itertools\n",
    "from Random_QLSP_v7_light import *"
   ]
  },
  {
   "cell_type": "code",
   "execution_count": null,
   "metadata": {},
   "outputs": [],
   "source": [
    "def prune_list(list_of_string_observables, local_calc, norm_calc):\n",
    "    for idx, val in enumerate(list_of_string_observables):\n",
    "        if val in list(local_calc.keys()) and val in list(norm_calc.keys()):\n",
    "            if abs(local_calc[val]) < 1e-15 and abs(norm_calc[val]) < 1e-15:\n",
    "                list_of_string_observables.remove(val)\n",
    "        elif val in list(local_calc.keys()):\n",
    "            if abs(local_calc[val]) < 1e-15:\n",
    "                list_of_string_observables.remove(val)\n",
    "        elif val in list(norm_calc.keys()):\n",
    "            if abs(norm_calc[val]) < 1e-15:\n",
    "                list_of_string_observables.remove(val)\n",
    "    return list_of_string_observables"
   ]
  },
  {
   "cell_type": "code",
   "execution_count": null,
   "metadata": {},
   "outputs": [],
   "source": [
    "kappa = 10\n",
    "n = 10\n",
    "dim = 2**n\n",
    "\n",
    "number_of_expval_k2 = []\n",
    "number_of_expval_k4 = []\n",
    "\n",
    "std_k2 = []\n",
    "std_k4 = []\n",
    "\n",
    "number_of_unitaries = []\n",
    "\n",
    "for p in np.linspace(4,100,5):\n",
    "    print(p)\n",
    "    number_of_unitaries.append(p)\n",
    "\n",
    "    int_list_2 = []\n",
    "    int_list_4 = []\n",
    "\n",
    "    for _ in range(1):\n",
    "        gate_set_2, coefficient_set_2, A_2 = Random_QLSP_v7(n, kappa=kappa, algorithm='shadows', J=p, k_loc=1)\n",
    "        list_of_string_observables_2, local_calc_2, norm_calc_2 = create_operator_list(A_strings=gate_set_2, A_coeffs=coefficient_set_2)\n",
    "        pruned_list_2 = prune_list(list_of_string_observables_2, local_calc_2, norm_calc_2)\n",
    "        int_list_2.append(len(pruned_list_2))\n",
    "\n",
    "        gate_set_4, coefficient_set_4, A_4 = Random_QLSP_v7(n, kappa=kappa, algorithm='shadows', J=p, k_loc=5)\n",
    "        list_of_string_observables_4, local_calc_4, norm_calc_4 = create_operator_list(A_strings=gate_set_4, A_coeffs=coefficient_set_4)\n",
    "        pruned_list_4 = prune_list(list_of_string_observables_4, local_calc_4, norm_calc_2)\n",
    "        int_list_4.append(len(pruned_list_4))        \n",
    "    \n",
    "    number_of_expval_k2.append(np.mean(int_list_2))\n",
    "    number_of_expval_k4.append(np.mean(int_list_4)) \n",
    "\n",
    "    std_k2.append(np.std(int_list_2))\n",
    "    std_k4.append(np.std(int_list_4))\n",
    "\n",
    "np.save(f'number_of_expval_k1_{kappa}kappa_{n}qubits', np.array(number_of_expval_k2))\n",
    "np.save(f'number_of_expval_k5_{kappa}kappa_{n}qubits', np.array(number_of_expval_k4))\n",
    "\n",
    "np.save(f'std_k1_{kappa}kappa', np.array(std_k2))\n",
    "np.save(f'std_k5_{kappa}kappa', np.array(std_k4))"
   ]
  },
  {
   "cell_type": "code",
   "execution_count": null,
   "metadata": {},
   "outputs": [],
   "source": [
    "kappa = 10\n",
    "\n",
    "number_of_unitaries = np.linspace(4,100,10)\n",
    "\n",
    "number_of_expval_k2 = np.load(f'number_of_expval_k2_{kappa}kappa.npy')\n",
    "number_of_expval_k4 = np.load(f'number_of_expval_k4_{kappa}kappa.npy')\n",
    "\n",
    "std_k2 = np.load(f'std_k2_{kappa}kappa.npy')\n",
    "std_k4 = np.load(f'std_k4_{kappa}kappa.npy')\n",
    "std_k10 = np.load(f'std_k10_{kappa}kappa.npy')"
   ]
  },
  {
   "cell_type": "code",
   "execution_count": null,
   "metadata": {},
   "outputs": [],
   "source": [
    "color = ['#aadce0',\n",
    " '#ef8a47',\n",
    " '#376795',\n",
    " '#f7aa58',\n",
    " '#72bcd5',\n",
    " '#ffe6b7',\n",
    " '#e76254',\n",
    " '#1e466e',\n",
    " '#ffd06f',\n",
    " '#528fad']\n",
    "\n",
    "plt.rcParams.update({\n",
    "    \"text.usetex\": False,\n",
    "    \"font.family\": \"serif\",\n",
    "    \"font.sans-serif\": \"Palatino\",})\n",
    "\n",
    "plt.figure(figsize=(3.5,2.75))\n",
    "\n",
    "plt.plot(number_of_unitaries, [(number_of_unitaries[i[0]]*(number_of_unitaries[i[0]] - 1) + 20*(number_of_unitaries[i[0]])**2) for i in enumerate(number_of_unitaries)],label='no pre-processing', color= color[6], linestyle = 'dashed')\n",
    "plt.plot(number_of_unitaries, number_of_expval_k2, label='2-local', color= color[2])\n",
    "plt.plot(number_of_unitaries, number_of_expval_k4, label='4-local', color= color[4])\n",
    "# plt.plot(number_of_unitaries, number_of_expval_k10, label='10-local', color= 'green')\n",
    "\n",
    "plt.xlabel(r'$N(P^k)$')\n",
    "plt.ylabel(r'$N(\\langle P \\rangle)$', fontsize = 11, labelpad=12, va = 'center', rotation = 'vertical')\n",
    "plt.ticklabel_format(axis='y', style='sci', scilimits=(4,4))\n",
    "plt.yticks(fontsize = 8)\n",
    "plt.xticks(fontsize = 8)\n",
    "# plt.text(37,4.4e4,r'$\\sim 11N_{P_i}^{2}$')\n",
    "# plt.text(57,2.3e4,r'$\\sim 2.9N_{P_i}^{2}$')\n",
    "# plt.text(77,0.7e4,r'$\\sim 1.4N_{P_i}^{2}$')\n",
    "plt.grid()\n",
    "\n",
    "plt.legend(loc='upper left', borderaxespad=0, fontsize = 8, labelspacing = 0.35)\n",
    "# plt.savefig('Expvalscaling_v2.pdf', bbox_inches = 'tight')"
   ]
  },
  {
   "cell_type": "markdown",
   "metadata": {},
   "source": [
    "# Qubit Scaling"
   ]
  },
  {
   "cell_type": "code",
   "execution_count": 3,
   "metadata": {},
   "outputs": [],
   "source": [
    "import pennylane as qml\n",
    "from pennylane import numpy as np\n",
    "from Pauli_algebra_v3 import *\n",
    "import matplotlib.pyplot as plt\n",
    "import itertools\n",
    "from Random_QLSP_v7_light import *"
   ]
  },
  {
   "cell_type": "code",
   "execution_count": null,
   "metadata": {},
   "outputs": [],
   "source": [
    "def prune_list(list_of_string_observables, local_calc, norm_calc):\n",
    "    for idx, val in enumerate(list_of_string_observables):\n",
    "        if val in list(local_calc.keys()) and val in list(norm_calc.keys()):\n",
    "            if abs(local_calc[val]) < 1e-15 and abs(norm_calc[val]) < 1e-15:\n",
    "                list_of_string_observables.remove(val)\n",
    "        elif val in list(local_calc.keys()):\n",
    "            if abs(local_calc[val]) < 1e-15:\n",
    "                list_of_string_observables.remove(val)\n",
    "        elif val in list(norm_calc.keys()):\n",
    "            if abs(norm_calc[val]) < 1e-15:\n",
    "                list_of_string_observables.remove(val)\n",
    "    return list_of_string_observables"
   ]
  },
  {
   "cell_type": "code",
   "execution_count": null,
   "metadata": {},
   "outputs": [],
   "source": [
    "kappa = 10\n",
    "n_qubits = np.linspace(10,50,5)\n",
    "n_unitaries = 10\n",
    "number_of_expval_k2 = []\n",
    "number_of_expval_half = []\n",
    "\n",
    "std_k2 = []\n",
    "std_half = []\n",
    "\n",
    "for nq in n_qubits:\n",
    "    print(nq)\n",
    "    int_list_2 = []\n",
    "    int_list_half = []\n",
    "\n",
    "    for _ in range(1):\n",
    "        gate_set_2, coefficient_set_2, A_2 = Random_QLSP_v7(int(nq), kappa=kappa, algorithm='shadows', J=n_unitaries, k_loc=2)\n",
    "        list_of_string_observables_2, local_calc_2, norm_calc_2 = create_operator_list(A_strings=gate_set_2, A_coeffs=coefficient_set_2)\n",
    "        pruned_list_2 = prune_list(list_of_string_observables_2, local_calc_2, norm_calc_2)\n",
    "        int_list_2.append(len(pruned_list_2))\n",
    "\n",
    "        gate_set_half, coefficient_set_half, A_half = Random_QLSP_v7(int(nq), kappa=kappa, algorithm='shadows', J=n_unitaries, k_loc=int(nq/2))\n",
    "        list_of_string_observables_half, local_calc_half, norm_calc_half = create_operator_list(A_strings=gate_set_half, A_coeffs=coefficient_set_half)\n",
    "        pruned_list_half = prune_list(list_of_string_observables_half, local_calc_half, norm_calc_half)\n",
    "        int_list_half.append(len(pruned_list_half))        \n",
    "    \n",
    "    number_of_expval_k2.append(np.mean(int_list_2))\n",
    "    number_of_expval_half.append(np.mean(int_list_half)) \n",
    "\n",
    "    std_k2.append(np.std(int_list_2))\n",
    "    std_half.append(np.std(int_list_half))\n",
    "\n",
    "\n",
    "np.save(f'number_of_expval_k2_{n_unitaries}unitaries_nqubits', np.array(number_of_expval_k2))\n",
    "np.save(f'number_of_expval_half_{n_unitaries}unitaries_nqubits', np.array(number_of_expval_half))\n",
    "\n",
    "np.save(f'std_k2_{n_unitaries}unitaries_nqubits', np.array(std_k2))\n",
    "np.save(f'std_half_{n_unitaries}unitaries_nqubits', np.array(std_half))"
   ]
  },
  {
   "cell_type": "code",
   "execution_count": 4,
   "metadata": {},
   "outputs": [
    {
     "ename": "FileNotFoundError",
     "evalue": "[Errno 2] No such file or directory: 'number_of_expval_k2_10unitaries_nqubits.npy'",
     "output_type": "error",
     "traceback": [
      "\u001b[0;31m---------------------------------------------------------------------------\u001b[0m",
      "\u001b[0;31mFileNotFoundError\u001b[0m                         Traceback (most recent call last)",
      "Cell \u001b[0;32mIn[4], line 5\u001b[0m\n\u001b[1;32m      1\u001b[0m n_unitaries \u001b[38;5;241m=\u001b[39m \u001b[38;5;241m10\u001b[39m\n\u001b[1;32m      3\u001b[0m n_qubits \u001b[38;5;241m=\u001b[39m np\u001b[38;5;241m.\u001b[39mlinspace(\u001b[38;5;241m10\u001b[39m,\u001b[38;5;241m50\u001b[39m,\u001b[38;5;241m5\u001b[39m)\n\u001b[0;32m----> 5\u001b[0m number_of_expval_k2 \u001b[38;5;241m=\u001b[39m \u001b[43mnp\u001b[49m\u001b[38;5;241;43m.\u001b[39;49m\u001b[43mload\u001b[49m\u001b[43m(\u001b[49m\u001b[38;5;124;43mf\u001b[39;49m\u001b[38;5;124;43m'\u001b[39;49m\u001b[38;5;124;43mnumber_of_expval_k2_\u001b[39;49m\u001b[38;5;132;43;01m{\u001b[39;49;00m\u001b[43mn_unitaries\u001b[49m\u001b[38;5;132;43;01m}\u001b[39;49;00m\u001b[38;5;124;43munitaries_nqubits.npy\u001b[39;49m\u001b[38;5;124;43m'\u001b[39;49m\u001b[43m)\u001b[49m\n\u001b[1;32m      6\u001b[0m number_of_expval_half \u001b[38;5;241m=\u001b[39m np\u001b[38;5;241m.\u001b[39mload(\u001b[38;5;124mf\u001b[39m\u001b[38;5;124m'\u001b[39m\u001b[38;5;124mnumber_of_expval_half_\u001b[39m\u001b[38;5;132;01m{\u001b[39;00mn_unitaries\u001b[38;5;132;01m}\u001b[39;00m\u001b[38;5;124munitaries_nqubits.npy\u001b[39m\u001b[38;5;124m'\u001b[39m)\n\u001b[1;32m      8\u001b[0m std_k2 \u001b[38;5;241m=\u001b[39m np\u001b[38;5;241m.\u001b[39mload(\u001b[38;5;124mf\u001b[39m\u001b[38;5;124m'\u001b[39m\u001b[38;5;124mstd_k2_\u001b[39m\u001b[38;5;132;01m{\u001b[39;00mn_unitaries\u001b[38;5;132;01m}\u001b[39;00m\u001b[38;5;124munitaries_nqubits.npy\u001b[39m\u001b[38;5;124m'\u001b[39m)\n",
      "File \u001b[0;32m~/.local/lib/python3.10/site-packages/pennylane/numpy/wrapper.py:117\u001b[0m, in \u001b[0;36mtensor_wrapper.<locals>._wrapped\u001b[0;34m(*args, **kwargs)\u001b[0m\n\u001b[1;32m    114\u001b[0m         tensor_kwargs[\u001b[38;5;124m\"\u001b[39m\u001b[38;5;124mrequires_grad\u001b[39m\u001b[38;5;124m\"\u001b[39m] \u001b[38;5;241m=\u001b[39m _np\u001b[38;5;241m.\u001b[39many([i\u001b[38;5;241m.\u001b[39mrequires_grad \u001b[38;5;28;01mfor\u001b[39;00m i \u001b[38;5;129;01min\u001b[39;00m tensor_args])\n\u001b[1;32m    116\u001b[0m \u001b[38;5;66;03m# evaluate the original object\u001b[39;00m\n\u001b[0;32m--> 117\u001b[0m res \u001b[38;5;241m=\u001b[39m \u001b[43mobj\u001b[49m\u001b[43m(\u001b[49m\u001b[38;5;241;43m*\u001b[39;49m\u001b[43margs\u001b[49m\u001b[43m,\u001b[49m\u001b[43m \u001b[49m\u001b[38;5;241;43m*\u001b[39;49m\u001b[38;5;241;43m*\u001b[39;49m\u001b[43mkwargs\u001b[49m\u001b[43m)\u001b[49m\n\u001b[1;32m    119\u001b[0m \u001b[38;5;28;01mif\u001b[39;00m \u001b[38;5;28misinstance\u001b[39m(res, _np\u001b[38;5;241m.\u001b[39mndarray):\n\u001b[1;32m    120\u001b[0m     \u001b[38;5;66;03m# only if the output of the object is a ndarray,\u001b[39;00m\n\u001b[1;32m    121\u001b[0m     \u001b[38;5;66;03m# then convert to a PennyLane tensor\u001b[39;00m\n\u001b[1;32m    122\u001b[0m     res \u001b[38;5;241m=\u001b[39m tensor(res, \u001b[38;5;241m*\u001b[39m\u001b[38;5;241m*\u001b[39mtensor_kwargs)\n",
      "File \u001b[0;32m~/.local/lib/python3.10/site-packages/autograd/tracer.py:48\u001b[0m, in \u001b[0;36mprimitive.<locals>.f_wrapped\u001b[0;34m(*args, **kwargs)\u001b[0m\n\u001b[1;32m     46\u001b[0m     \u001b[38;5;28;01mreturn\u001b[39;00m new_box(ans, trace, node)\n\u001b[1;32m     47\u001b[0m \u001b[38;5;28;01melse\u001b[39;00m:\n\u001b[0;32m---> 48\u001b[0m     \u001b[38;5;28;01mreturn\u001b[39;00m \u001b[43mf_raw\u001b[49m\u001b[43m(\u001b[49m\u001b[38;5;241;43m*\u001b[39;49m\u001b[43margs\u001b[49m\u001b[43m,\u001b[49m\u001b[43m \u001b[49m\u001b[38;5;241;43m*\u001b[39;49m\u001b[38;5;241;43m*\u001b[39;49m\u001b[43mkwargs\u001b[49m\u001b[43m)\u001b[49m\n",
      "File \u001b[0;32m~/.local/lib/python3.10/site-packages/numpy/lib/npyio.py:405\u001b[0m, in \u001b[0;36mload\u001b[0;34m(file, mmap_mode, allow_pickle, fix_imports, encoding, max_header_size)\u001b[0m\n\u001b[1;32m    403\u001b[0m     own_fid \u001b[38;5;241m=\u001b[39m \u001b[38;5;28;01mFalse\u001b[39;00m\n\u001b[1;32m    404\u001b[0m \u001b[38;5;28;01melse\u001b[39;00m:\n\u001b[0;32m--> 405\u001b[0m     fid \u001b[38;5;241m=\u001b[39m stack\u001b[38;5;241m.\u001b[39menter_context(\u001b[38;5;28;43mopen\u001b[39;49m\u001b[43m(\u001b[49m\u001b[43mos_fspath\u001b[49m\u001b[43m(\u001b[49m\u001b[43mfile\u001b[49m\u001b[43m)\u001b[49m\u001b[43m,\u001b[49m\u001b[43m \u001b[49m\u001b[38;5;124;43m\"\u001b[39;49m\u001b[38;5;124;43mrb\u001b[39;49m\u001b[38;5;124;43m\"\u001b[39;49m\u001b[43m)\u001b[49m)\n\u001b[1;32m    406\u001b[0m     own_fid \u001b[38;5;241m=\u001b[39m \u001b[38;5;28;01mTrue\u001b[39;00m\n\u001b[1;32m    408\u001b[0m \u001b[38;5;66;03m# Code to distinguish from NumPy binary files and pickles.\u001b[39;00m\n",
      "\u001b[0;31mFileNotFoundError\u001b[0m: [Errno 2] No such file or directory: 'number_of_expval_k2_10unitaries_nqubits.npy'"
     ]
    }
   ],
   "source": [
    "n_unitaries = 10\n",
    "\n",
    "n_qubits = np.linspace(10,50,5)\n",
    "\n",
    "number_of_expval_k2 = np.load(f'number_of_expval_k2_{n_unitaries}unitaries_nqubits.npy')\n",
    "number_of_expval_half = np.load(f'number_of_expval_half_{n_unitaries}unitaries_nqubits.npy')\n",
    "\n",
    "std_k2 = np.load(f'std_k2_{n_unitaries}unitaries_nqubits.npy')\n",
    "std_half = np.load(f'std_half_{n_unitaries}unitaries_nqubits.npy')"
   ]
  },
  {
   "cell_type": "code",
   "execution_count": null,
   "metadata": {},
   "outputs": [],
   "source": [
    "color = ['#aadce0',\n",
    " '#ef8a47',\n",
    " '#376795',\n",
    " '#f7aa58',\n",
    " '#72bcd5',\n",
    " '#ffe6b7',\n",
    " '#e76254',\n",
    " '#1e466e',\n",
    " '#ffd06f',\n",
    " '#528fad']\n",
    "\n",
    "plt.rcParams.update({\n",
    "    \"text.usetex\": False,\n",
    "    \"font.family\": \"serif\",\n",
    "    \"font.sans-serif\": \"Palatino\",})\n",
    "\n",
    "plt.figure(figsize=(3.5,2.75))\n",
    "\n",
    "plt.plot(n_qubits, [(n_unitaries*(n_unitaries - 1) + nq*(n_unitaries)**2) for nq in n_qubits],label='no pre-processing', color= color[6], linestyle = 'dashed')\n",
    "plt.plot(n_qubits, number_of_expval_k2, label=r'2-local', color= color[2])\n",
    "plt.plot(n_qubits, number_of_expval_half, label=r'n/2-local', color= color[4])\n",
    "\n",
    "plt.xlabel(r'$n$')\n",
    "plt.ylabel(r'$N_{\\langle P_i \\rangle}$', fontsize = 11, labelpad=12, va = 'center', rotation = 'horizontal')\n",
    "plt.ticklabel_format(axis='y', style='sci', scilimits=(1,2))\n",
    "plt.yticks(fontsize = 8)\n",
    "plt.xticks(fontsize = 8)\n",
    "plt.grid()\n",
    "\n",
    "plt.legend(loc='upper left', borderaxespad=0, fontsize = 8, labelspacing = 0.35)\n",
    "# plt.savefig('Expvalscaling_v2.pdf', bbox_inches = 'tight')"
   ]
  },
  {
   "cell_type": "markdown",
   "metadata": {},
   "source": [
    "# Time Scaling"
   ]
  },
  {
   "cell_type": "code",
   "execution_count": null,
   "metadata": {},
   "outputs": [],
   "source": []
  }
 ],
 "metadata": {
  "kernelspec": {
   "display_name": "Python 3",
   "language": "python",
   "name": "python3"
  },
  "language_info": {
   "codemirror_mode": {
    "name": "ipython",
    "version": 3
   },
   "file_extension": ".py",
   "mimetype": "text/x-python",
   "name": "python",
   "nbconvert_exporter": "python",
   "pygments_lexer": "ipython3",
   "version": "3.10.12"
  }
 },
 "nbformat": 4,
 "nbformat_minor": 2
}
