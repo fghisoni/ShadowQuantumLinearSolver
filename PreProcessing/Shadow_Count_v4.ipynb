{
 "cells": [
  {
   "cell_type": "markdown",
   "metadata": {},
   "source": [
    "# Circuit Scaling"
   ]
  },
  {
   "cell_type": "code",
   "execution_count": 1,
   "metadata": {},
   "outputs": [],
   "source": [
    "import pennylane as qml\n",
    "from pennylane import numpy as np\n",
    "from Pauli_algebra_v3 import *\n",
    "import matplotlib.pyplot as plt\n",
    "import itertools\n",
    "from Random_QLSP_v7_light import *"
   ]
  },
  {
   "cell_type": "code",
   "execution_count": 2,
   "metadata": {},
   "outputs": [],
   "source": [
    "def calc_klocality(pstr):\n",
    "    return pstr.count('X') + pstr.count('Y') + pstr.count('Z')"
   ]
  },
  {
   "cell_type": "code",
   "execution_count": 7,
   "metadata": {},
   "outputs": [
    {
     "name": "stdout",
     "output_type": "stream",
     "text": [
      "4.0\n",
      "36.0\n"
     ]
    }
   ],
   "source": [
    "kappa = 10\n",
    "n = 10\n",
    "dim = 2**n\n",
    "\n",
    "error01_pauli = []\n",
    "\n",
    "number_of_unitaries = []\n",
    "number_of_expval = []\n",
    "\n",
    "for p in np.linspace(4,100, 4):\n",
    "    print(p)\n",
    "    int_expval = []\n",
    "    int_error001_pauli = []\n",
    "    for _ in range(1):\n",
    "        gate_set, coefficient_set, A = Random_QLSP_v7(n, kappa=kappa, algorithm='shadows', J=int(p), k_loc=1)\n",
    "        b = [1/np.sqrt(dim) for i in range(dim)]\n",
    "        list_of_string_observables, local_calc, norm_calc = create_operator_list(A_strings=gate_set, A_coeffs=coefficient_set)\n",
    "            \n",
    "        for idx, val in enumerate(list_of_string_observables):\n",
    "            if val in list(local_calc.keys()) and val in list(norm_calc.keys()):\n",
    "                if abs(local_calc[val]) < 1e-15 and abs(norm_calc[val]) < 1e-15:\n",
    "                    list_of_string_observables.remove(val)\n",
    "            elif val in list(local_calc.keys()):\n",
    "                if abs(local_calc[val]) < 1e-15:\n",
    "                    list_of_string_observables.remove(val)\n",
    "            elif val in list(norm_calc.keys()):\n",
    "                if abs(norm_calc[val]) < 1e-15:\n",
    "                    list_of_string_observables.remove(val)\n",
    "        \n",
    "        int_expval.append(len(list_of_string_observables))\n",
    "        \n",
    "        n_terms = len(gate_set)\n",
    "        n_op = len(list_of_string_observables)\n",
    "\n",
    "        k_loc = 0\n",
    "        for ob in list_of_string_observables:\n",
    "            k_int = calc_klocality(ob)\n",
    "            if k_int > k_loc:\n",
    "                k_loc = k_int\n",
    "\n",
    "        error_grid = [0.01]\n",
    "        for error in error_grid:\n",
    "            shadow_size_bound_pauli = int(np.ceil(np.log(n_op)*(3**k_loc)/error**2))\n",
    "            if np.isclose(error,0.01):\n",
    "                int_error001_pauli.append(shadow_size_bound_pauli)\n",
    "\n",
    "    number_of_expval.append(np.mean(int_expval))\n",
    "    error01_pauli.append(np.mean(int_error001_pauli))\n",
    "\n",
    "np.save('number_of_expval',np.array(number_of_expval))\n",
    "np.save('error01_pauli',np.array(error01_pauli))"
   ]
  },
  {
   "cell_type": "code",
   "execution_count": null,
   "metadata": {},
   "outputs": [
    {
     "data": {
      "image/png": "[encoded data removed]",
      "text/plain": [
       "<Figure size 350x275 with 1 Axes>"
      ]
     },
     "metadata": {},
     "output_type": "display_data"
    }
   ],
   "source": [
    "error01_pauli = np.load('error01_pauli.npy')\n",
    "number_of_expval = np.load('number_of_expval.npy')\n",
    "\n",
    "number_of_unitaries = np.linspace(4,100, 4)\n",
    "plt.figure(figsize=(3.5,2.75))\n",
    "\n",
    "plt.plot(number_of_unitaries, [0.5*10000*(number_of_unitaries[i[0]]*(number_of_unitaries[i[0]] - 1) + 10*(number_of_unitaries[i[0]])**2) for i in enumerate(number_of_unitaries)],label=r'$n_{shots}=10000$', color= '#e76254', linestyle = 'dashed')\n",
    "plt.plot(number_of_unitaries, 10000*np.array(number_of_expval), label = r'$n_{shots}^{*}=10000$', color = '#ef8a47', linestyle = 'dashed')   \n",
    "\n",
    "plt.plot(number_of_unitaries, error01_pauli, label = r'$\\epsilon_{shadow}=0.01$', color = '#1081C1')   \n",
    "\n",
    "plt.xlabel(r'$N(P^k)$')\n",
    "plt.ylabel(r'$N_{circuits}$/step', fontsize = 11, labelpad=12, va = 'center')\n",
    "plt.yticks(fontsize = 8)\n",
    "plt.xticks(fontsize = 8)\n",
    "# plt.ylim(-3e7,1e8)\n",
    "plt.yscale(\"log\")\n",
    "plt.grid()\n",
    "plt.legend(loc='upper left', borderaxespad=0, fontsize = 8, labelspacing = 0.35)#, ncol = 3)\n",
    "plt.savefig('Operatorscaling_v2.pdf', bbox_inches = 'tight')"
   ]
  },
  {
   "cell_type": "markdown",
   "metadata": {},
   "source": [
    "# Expval Scaling"
   ]
  },
  {
   "cell_type": "code",
   "execution_count": 2,
   "metadata": {},
   "outputs": [],
   "source": [
    "import pennylane as qml\n",
    "from pennylane import numpy as np\n",
    "from Pauli_algebra_v3 import *\n",
    "import matplotlib.pyplot as plt\n",
    "import itertools\n",
    "from Random_QLSP_v7_light import *"
   ]
  },
  {
   "cell_type": "code",
   "execution_count": null,
   "metadata": {},
   "outputs": [],
   "source": [
    "def prune_list(list_of_string_observables, local_calc, norm_calc):\n",
    "    for idx, val in enumerate(list_of_string_observables):\n",
    "        if val in list(local_calc.keys()) and val in list(norm_calc.keys()):\n",
    "            if abs(local_calc[val]) < 1e-15 and abs(norm_calc[val]) < 1e-15:\n",
    "                list_of_string_observables.remove(val)\n",
    "        elif val in list(local_calc.keys()):\n",
    "            if abs(local_calc[val]) < 1e-15:\n",
    "                list_of_string_observables.remove(val)\n",
    "        elif val in list(norm_calc.keys()):\n",
    "            if abs(norm_calc[val]) < 1e-15:\n",
    "                list_of_string_observables.remove(val)\n",
    "    return list_of_string_observables"
   ]
  },
  {
   "cell_type": "code",
   "execution_count": null,
   "metadata": {},
   "outputs": [],
   "source": [
    "kappa = 10\n",
    "n = 10\n",
    "dim = 2**n\n",
    "\n",
    "number_of_expval_k2 = []\n",
    "number_of_expval_k4 = []\n",
    "\n",
    "std_k2 = []\n",
    "std_k4 = []\n",
    "\n",
    "number_of_unitaries = []\n",
    "\n",
    "for p in np.linspace(4,100,5):\n",
    "    print(p)\n",
    "    number_of_unitaries.append(p)\n",
    "\n",
    "    int_list_2 = []\n",
    "    int_list_4 = []\n",
    "\n",
    "    for _ in range(1):\n",
    "        gate_set_2, coefficient_set_2, A_2 = Random_QLSP_v7(n, kappa=kappa, algorithm='shadows', J=p, k_loc=1)\n",
    "        list_of_string_observables_2, local_calc_2, norm_calc_2 = create_operator_list(A_strings=gate_set_2, A_coeffs=coefficient_set_2)\n",
    "        pruned_list_2 = prune_list(list_of_string_observables_2, local_calc_2, norm_calc_2)\n",
    "        int_list_2.append(len(pruned_list_2))\n",
    "\n",
    "        gate_set_4, coefficient_set_4, A_4 = Random_QLSP_v7(n, kappa=kappa, algorithm='shadows', J=p, k_loc=5)\n",
    "        list_of_string_observables_4, local_calc_4, norm_calc_4 = create_operator_list(A_strings=gate_set_4, A_coeffs=coefficient_set_4)\n",
    "        pruned_list_4 = prune_list(list_of_string_observables_4, local_calc_4, norm_calc_2)\n",
    "        int_list_4.append(len(pruned_list_4))        \n",
    "    \n",
    "    number_of_expval_k2.append(np.mean(int_list_2))\n",
    "    number_of_expval_k4.append(np.mean(int_list_4)) \n",
    "\n",
    "    std_k2.append(np.std(int_list_2))\n",
    "    std_k4.append(np.std(int_list_4))\n",
    "\n",
    "np.save(f'number_of_expval_k1_{kappa}kappa_{n}qubits', np.array(number_of_expval_k2))\n",
    "np.save(f'number_of_expval_k5_{kappa}kappa_{n}qubits', np.array(number_of_expval_k4))\n",
    "\n",
    "np.save(f'std_k1_{kappa}kappa', np.array(std_k2))\n",
    "np.save(f'std_k5_{kappa}kappa', np.array(std_k4))"
   ]
  },
  {
   "cell_type": "code",
   "execution_count": 3,
   "metadata": {},
   "outputs": [],
   "source": [
    "kappa = 10\n",
    "\n",
    "number_of_unitaries = np.linspace(4,100,10)\n",
    "\n",
    "number_of_expval_k2 = np.load(f'number_of_expval_k2_{kappa}kappa.npy')\n",
    "number_of_expval_k4 = np.load(f'number_of_expval_k4_{kappa}kappa.npy')\n",
    "\n",
    "std_k2 = np.load(f'std_k2_{kappa}kappa.npy')\n",
    "std_k4 = np.load(f'std_k4_{kappa}kappa.npy')\n",
    "std_k10 = np.load(f'std_k10_{kappa}kappa.npy')"
   ]
  },
  {
   "cell_type": "code",
   "execution_count": 8,
   "metadata": {},
   "outputs": [
    {
     "data": {
      "text/plain": [
       "<matplotlib.legend.Legend at 0x710ec899c3a0>"
      ]
     },
     "execution_count": 8,
     "metadata": {},
     "output_type": "execute_result"
    },
    {
     "data": {
      "image/png": "[encoded data removed]",
      "text/plain": [
       "<Figure size 350x275 with 1 Axes>"
      ]
     },
     "metadata": {},
     "output_type": "display_data"
    }
   ],
   "source": [
    "color = ['#aadce0',\n",
    " '#ef8a47',\n",
    " '#376795',\n",
    " '#f7aa58',\n",
    " '#72bcd5',\n",
    " '#ffe6b7',\n",
    " '#e76254',\n",
    " '#1e466e',\n",
    " '#ffd06f',\n",
    " '#528fad']\n",
    "\n",
    "plt.rcParams.update({\n",
    "    \"text.usetex\": False,\n",
    "    \"font.family\": \"serif\",\n",
    "    \"font.sans-serif\": \"Palatino\",})\n",
    "\n",
    "plt.figure(figsize=(3.5,2.75))\n",
    "\n",
    "plt.plot(number_of_unitaries, [(number_of_unitaries[i[0]]*(number_of_unitaries[i[0]] - 1) + 20*(number_of_unitaries[i[0]])**2) for i in enumerate(number_of_unitaries)],label='no pre-processing', color= color[6], linestyle = 'dashed')\n",
    "plt.plot(number_of_unitaries, number_of_expval_k2, label='2-local', color= color[2])\n",
    "plt.plot(number_of_unitaries, number_of_expval_k4, label='4-local', color= color[4])\n",
    "# plt.plot(number_of_unitaries, number_of_expval_k10, label='10-local', color= 'green')\n",
    "\n",
    "plt.xlabel(r'$N(P^k)$')\n",
    "plt.ylabel(r'$N(\\langle P \\rangle)$', fontsize = 11, labelpad=12, va = 'center', rotation = 'vertical')\n",
    "plt.ticklabel_format(axis='y', style='sci', scilimits=(4,4))\n",
    "plt.yticks(fontsize = 8)\n",
    "plt.xticks(fontsize = 8)\n",
    "# plt.text(37,4.4e4,r'$\\sim 11N_{P_i}^{2}$')\n",
    "# plt.text(57,2.3e4,r'$\\sim 2.9N_{P_i}^{2}$')\n",
    "# plt.text(77,0.7e4,r'$\\sim 1.4N_{P_i}^{2}$')\n",
    "plt.grid()\n",
    "\n",
    "plt.legend(loc='upper left', borderaxespad=0, fontsize = 8, labelspacing = 0.35)\n",
    "# plt.savefig('Expvalscaling_v2.pdf', bbox_inches = 'tight')"
   ]
  },
  {
   "cell_type": "markdown",
   "metadata": {},
   "source": [
    "# Qubit Scaling"
   ]
  },
  {
   "cell_type": "code",
   "execution_count": null,
   "metadata": {},
   "outputs": [],
   "source": [
    "import pennylane as qml\n",
    "from pennylane import numpy as np\n",
    "from classical_shadows_functions import *\n",
    "from Pauli_algebra_v3 import *\n",
    "import matplotlib.pyplot as plt\n",
    "import itertools\n",
    "from Random_QLSP_v7_light import *"
   ]
  },
  {
   "cell_type": "code",
   "execution_count": null,
   "metadata": {},
   "outputs": [],
   "source": [
    "def prune_list(list_of_string_observables, local_calc, norm_calc):\n",
    "    for idx, val in enumerate(list_of_string_observables):\n",
    "        if val in list(local_calc.keys()) and val in list(norm_calc.keys()):\n",
    "            if abs(local_calc[val]) < 1e-15 and abs(norm_calc[val]) < 1e-15:\n",
    "                list_of_string_observables.remove(val)\n",
    "        elif val in list(local_calc.keys()):\n",
    "            if abs(local_calc[val]) < 1e-15:\n",
    "                list_of_string_observables.remove(val)\n",
    "        elif val in list(norm_calc.keys()):\n",
    "            if abs(norm_calc[val]) < 1e-15:\n",
    "                list_of_string_observables.remove(val)\n",
    "    return list_of_string_observables"
   ]
  },
  {
   "cell_type": "code",
   "execution_count": null,
   "metadata": {},
   "outputs": [],
   "source": [
    "kappa = 10\n",
    "n_qubits = np.linspace(10,50,5)\n",
    "n_unitaries = 10\n",
    "number_of_expval_k2 = []\n",
    "number_of_expval_half = []\n",
    "\n",
    "std_k2 = []\n",
    "std_half = []\n",
    "\n",
    "for nq in n_qubits:\n",
    "    print(nq)\n",
    "    int_list_2 = []\n",
    "    int_list_half = []\n",
    "\n",
    "    for _ in range(1):\n",
    "        gate_set_2, coefficient_set_2, A_2 = Random_QLSP_v7(int(nq), kappa=kappa, algorithm='shadows', J=n_unitaries, k_loc=2)\n",
    "        list_of_string_observables_2, local_calc_2, norm_calc_2 = create_operator_list(A_strings=gate_set_2, A_coeffs=coefficient_set_2)\n",
    "        pruned_list_2 = prune_list(list_of_string_observables_2, local_calc_2, norm_calc_2)\n",
    "        int_list_2.append(len(pruned_list_2))\n",
    "\n",
    "        gate_set_half, coefficient_set_half, A_half = Random_QLSP_v7(int(nq), kappa=kappa, algorithm='shadows', J=n_unitaries, k_loc=int(nq/2))\n",
    "        list_of_string_observables_half, local_calc_half, norm_calc_half = create_operator_list(A_strings=gate_set_half, A_coeffs=coefficient_set_half)\n",
    "        pruned_list_half = prune_list(list_of_string_observables_half, local_calc_half, norm_calc_half)\n",
    "        int_list_half.append(len(pruned_list_half))        \n",
    "    \n",
    "    number_of_expval_k2.append(np.mean(int_list_2))\n",
    "    number_of_expval_half.append(np.mean(int_list_half)) \n",
    "\n",
    "    std_k2.append(np.std(int_list_2))\n",
    "    std_half.append(np.std(int_list_half))\n",
    "\n",
    "\n",
    "np.save(f'number_of_expval_k2_{n_unitaries}unitaries_nqubits', np.array(number_of_expval_k2))\n",
    "np.save(f'number_of_expval_half_{n_unitaries}unitaries_nqubits', np.array(number_of_expval_half))\n",
    "\n",
    "np.save(f'std_k2_{n_unitaries}unitaries_nqubits', np.array(std_k2))\n",
    "np.save(f'std_half_{n_unitaries}unitaries_nqubits', np.array(std_half))"
   ]
  },
  {
   "cell_type": "code",
   "execution_count": null,
   "metadata": {},
   "outputs": [],
   "source": [
    "n_unitaries = 10\n",
    "\n",
    "n_qubits = np.linspace(10,50,5)\n",
    "\n",
    "number_of_expval_k2 = np.load(f'number_of_expval_k2_{n_unitaries}unitaries_nqubits.npy')\n",
    "number_of_expval_half = np.load(f'number_of_expval_half_{n_unitaries}unitaries_nqubits.npy')\n",
    "\n",
    "std_k2 = np.load(f'std_k2_{n_unitaries}unitaries_nqubits.npy')\n",
    "std_half = np.load(f'std_half_{n_unitaries}unitaries_nqubits.npy')"
   ]
  },
  {
   "cell_type": "code",
   "execution_count": null,
   "metadata": {},
   "outputs": [],
   "source": [
    "color = ['#aadce0',\n",
    " '#ef8a47',\n",
    " '#376795',\n",
    " '#f7aa58',\n",
    " '#72bcd5',\n",
    " '#ffe6b7',\n",
    " '#e76254',\n",
    " '#1e466e',\n",
    " '#ffd06f',\n",
    " '#528fad']\n",
    "\n",
    "plt.rcParams.update({\n",
    "    \"text.usetex\": False,\n",
    "    \"font.family\": \"serif\",\n",
    "    \"font.sans-serif\": \"Palatino\",})\n",
    "\n",
    "plt.figure(figsize=(3.5,2.75))\n",
    "\n",
    "plt.plot(n_qubits, [(n_unitaries*(n_unitaries - 1) + nq*(n_unitaries)**2) for nq in n_qubits],label='no pre-processing', color= color[6], linestyle = 'dashed')\n",
    "plt.plot(n_qubits, number_of_expval_k2, label=r'2-local', color= color[2])\n",
    "plt.plot(n_qubits, number_of_expval_half, label=r'n/2-local', color= color[4])\n",
    "\n",
    "plt.xlabel(r'$n$')\n",
    "plt.ylabel(r'$N_{\\langle P_i \\rangle}$', fontsize = 11, labelpad=12, va = 'center', rotation = 'horizontal')\n",
    "plt.ticklabel_format(axis='y', style='sci', scilimits=(1,2))\n",
    "plt.yticks(fontsize = 8)\n",
    "plt.xticks(fontsize = 8)\n",
    "plt.grid()\n",
    "\n",
    "plt.legend(loc='upper left', borderaxespad=0, fontsize = 8, labelspacing = 0.35)\n",
    "# plt.savefig('Expvalscaling_v2.pdf', bbox_inches = 'tight')"
   ]
  },
  {
   "cell_type": "markdown",
   "metadata": {},
   "source": [
    "# Time Scaling"
   ]
  },
  {
   "cell_type": "code",
   "execution_count": null,
   "metadata": {},
   "outputs": [],
   "source": []
  }
 ],
 "metadata": {
  "kernelspec": {
   "display_name": "Python 3",
   "language": "python",
   "name": "python3"
  },
  "language_info": {
   "codemirror_mode": {
    "name": "ipython",
    "version": 3
   },
   "file_extension": ".py",
   "mimetype": "text/x-python",
   "name": "python",
   "nbconvert_exporter": "python",
   "pygments_lexer": "ipython3",
   "version": "3.10.12"
  }
 },
 "nbformat": 4,
 "nbformat_minor": 2
}
