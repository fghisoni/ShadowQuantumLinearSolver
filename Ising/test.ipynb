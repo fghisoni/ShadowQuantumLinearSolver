{
 "cells": [
  {
   "cell_type": "code",
   "execution_count": 1,
   "metadata": {},
   "outputs": [],
   "source": [
    "import pennylane as qml\n",
    "from pennylane import numpy as np\n",
    "from Ising_Inspired_QLSP import *"
   ]
  },
  {
   "cell_type": "code",
   "execution_count": 12,
   "metadata": {},
   "outputs": [],
   "source": [
    "n = 4\n",
    "qubit_wires = range(n)\n",
    "dim = 2**n\n",
    "kappa = 60\n",
    "layers = 4\n",
    "\n",
    "gate_set, coefficient_set, A = Ising_Inspired_QLSP(n, kappa=kappa, algorithm='shadows')\n",
    "b = [1/np.sqrt(dim) for i in range(dim)]"
   ]
  },
  {
   "cell_type": "code",
   "execution_count": 13,
   "metadata": {},
   "outputs": [],
   "source": [
    "#single layer\n",
    "def layer(qubit_wires, parameters):\n",
    "  n = len(qubit_wires)\n",
    "  if n%2==0:\n",
    "    qml.broadcast(qml.CNOT,wires=qubit_wires, pattern='double')\n",
    "    qml.broadcast(qml.RY, wires=qubit_wires, parameters=parameters[0:n], pattern='single')\n",
    "    qml.broadcast(qml.CNOT,wires=qubit_wires[1:], pattern='double')\n",
    "    qml.broadcast(qml.RY, wires=qubit_wires[1:-1], parameters=parameters[n:2*(n-1)], pattern='single')\n",
    "  else:\n",
    "    qml.broadcast(qml.CNOT,wires=qubit_wires, pattern='double')\n",
    "    qml.CNOT(wires=[qubit_wires[0], qubit_wires[-1]])\n",
    "    qml.broadcast(qml.RY, wires=qubit_wires, parameters=parameters[0:n], pattern='single')\n",
    "    qml.broadcast(qml.CNOT,wires=qubit_wires[1:], pattern='double')\n",
    "    qml.CNOT(wires=[qubit_wires[0], qubit_wires[-1]])\n",
    "    qml.broadcast(qml.RY, wires=qubit_wires, parameters=parameters[n:2*n], pattern='single')"
   ]
  },
  {
   "cell_type": "code",
   "execution_count": 14,
   "metadata": {},
   "outputs": [],
   "source": [
    "#Fixed anstaz\n",
    "def apply_fixed_ansatz(qubit_wires, parameters, layers):  \n",
    "  n = len(qubit_wires)  \n",
    "  qml.broadcast(qml.RY, wires=qubit_wires, parameters=parameters[0:n], pattern='single')\n",
    "  \n",
    "  if n%2==0:\n",
    "    for l in range(layers):\n",
    "      layer(qubit_wires, parameters[n+2*(n-1)*l:n+2*(n-1)*l+2*(n-1)])\n",
    "  else:\n",
    "    for l in range(layers):\n",
    "      layer(qubit_wires, parameters[n+2*n*l:n+2*n*l+2*n])"
   ]
  },
  {
   "cell_type": "code",
   "execution_count": 15,
   "metadata": {},
   "outputs": [],
   "source": [
    "dev2 = qml.device('lightning.qubit', wires=qubit_wires)\n",
    "\n",
    "@qml.qnode(dev2)\n",
    "def circuit_fielity(parameters):\n",
    "    apply_fixed_ansatz(qubit_wires, parameters, layers)\n",
    "    return qml.state()"
   ]
  },
  {
   "cell_type": "code",
   "execution_count": 16,
   "metadata": {},
   "outputs": [],
   "source": [
    "def calc_fidelity(state_vec, A, b):\n",
    "    Ainv = np.linalg.inv(A)\n",
    "    Ainvprodb = np.matmul(Ainv,b)\n",
    "    Ainvprodb_norm = Ainvprodb/np.linalg.norm(Ainvprodb)  \n",
    "    fidelity = np.dot(np.array(Ainvprodb_norm), state_vec)\n",
    "    return fidelity"
   ]
  },
  {
   "cell_type": "code",
   "execution_count": 21,
   "metadata": {},
   "outputs": [
    {
     "name": "stdout",
     "output_type": "stream",
     "text": [
      "(0.9956338877525633+0j)\n",
      "(0.9979254325935571+0j)\n",
      "(0.9964425981442757+0j)\n",
      "(0.9934536364544231+0j)\n",
      "(0.9941422039741235+0j)\n",
      "(0.9937009982681992+0j)\n",
      "(0.9947147949652606+0j)\n",
      "(0.9958393907383181+0j)\n",
      "(0.9980484775387102+0j)\n",
      "(0.9979524257504259+0j)\n"
     ]
    }
   ],
   "source": [
    "for i in range(1,11):\n",
    "    fname = f'Results_PI/Ising_4qubits_0.01serr_params_{i}seed_Powell.npy'\n",
    "    params = np.load(fname)\n",
    "    state_vec = circuit_fielity(params)\n",
    "    print(calc_fidelity(state_vec, A, b))"
   ]
  },
  {
   "cell_type": "code",
   "execution_count": null,
   "metadata": {},
   "outputs": [],
   "source": []
  }
 ],
 "metadata": {
  "kernelspec": {
   "display_name": ".venv",
   "language": "python",
   "name": "python3"
  },
  "language_info": {
   "codemirror_mode": {
    "name": "ipython",
    "version": 3
   },
   "file_extension": ".py",
   "mimetype": "text/x-python",
   "name": "python",
   "nbconvert_exporter": "python",
   "pygments_lexer": "ipython3",
   "version": "3.10.16"
  }
 },
 "nbformat": 4,
 "nbformat_minor": 2
}
