{
 "cells": [
  {
   "cell_type": "code",
   "execution_count": 1,
   "metadata": {},
   "outputs": [],
   "source": [
    "import pennylane as qml\n",
    "from pennylane import numpy as np\n",
    "import random\n",
    "from scipy.optimize import minimize\n",
    "import math\n",
    "from Potential_problem import *\n",
    "from Pauli_algebra_v4 import *"
   ]
  },
  {
   "cell_type": "markdown",
   "metadata": {},
   "source": [
    "# Calculate classical shadow"
   ]
  },
  {
   "cell_type": "markdown",
   "metadata": {},
   "source": [
    "# Code parameters"
   ]
  },
  {
   "cell_type": "code",
   "execution_count": 2,
   "metadata": {},
   "outputs": [],
   "source": [
    "n = 8\n",
    "dim = 2**n"
   ]
  },
  {
   "cell_type": "markdown",
   "metadata": {},
   "source": [
    "# Problem set up"
   ]
  },
  {
   "cell_type": "code",
   "execution_count": 4,
   "metadata": {},
   "outputs": [],
   "source": [
    "gate_set, coefficient_set, A_norm, b_norm = Potential_problem(n)"
   ]
  },
  {
   "cell_type": "code",
   "execution_count": 5,
   "metadata": {},
   "outputs": [],
   "source": [
    "gate_set\n",
    "fname = f'{n}x{n}sites_potential.txt'\n",
    "\n",
    "with open(fname, 'w') as f:\n",
    "    for idx, gate in enumerate(gate_set):\n",
    "        if coefficient_set[idx].real != 0.0 or coefficient_set[idx].imag != 0.0:\n",
    "            f.write(gate + ' ' + str(coefficient_set[idx].real) + ' ' + str(coefficient_set[idx].imag)) \n",
    "            f.write('\\n')\n",
    "    \n",
    "np.save(f'{n}x{n}_bnorm', np.array(b_norm))"
   ]
  },
  {
   "cell_type": "code",
   "execution_count": null,
   "metadata": {},
   "outputs": [],
   "source": []
  }
 ],
 "metadata": {
  "kernelspec": {
   "display_name": "Python 3",
   "language": "python",
   "name": "python3"
  },
  "language_info": {
   "codemirror_mode": {
    "name": "ipython",
    "version": 3
   },
   "file_extension": ".py",
   "mimetype": "text/x-python",
   "name": "python",
   "nbconvert_exporter": "python",
   "pygments_lexer": "ipython3",
   "version": "3.10.12"
  }
 },
 "nbformat": 4,
 "nbformat_minor": 2
}
